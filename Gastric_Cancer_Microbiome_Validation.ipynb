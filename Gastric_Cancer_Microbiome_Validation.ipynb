{
  "nbformat": 4,
  "nbformat_minor": 0,
  "metadata": {
    "colab": {
      "provenance": []
    },
    "kernelspec": {
      "name": "python3",
      "display_name": "Python 3"
    },
    "language_info": {
      "name": "python"
    }
  },
  "cells": [
    {
      "cell_type": "markdown",
      "source": [
        "###Import necessary libraries"
      ],
      "metadata": {
        "id": "_H6W9nPiziog"
      }
    },
    {
      "cell_type": "code",
      "execution_count": null,
      "metadata": {
        "collapsed": true,
        "id": "xUfAXTJAq8ET"
      },
      "outputs": [],
      "source": [
        "! pip install optuna"
      ]
    },
    {
      "cell_type": "code",
      "source": [
        "import sklearn\n",
        "import xgboost\n",
        "\n",
        "print(f\"Scikit-learn version: {sklearn.__version__}\")\n",
        "print(f\"XGBoost version: {xgboost.__version__}\")\n"
      ],
      "metadata": {
        "id": "zBXB5bVUyb1R"
      },
      "execution_count": null,
      "outputs": []
    },
    {
      "cell_type": "code",
      "source": [
        "!pip uninstall scikit-learn -y\n",
        "!pip install scikit-learn==1.5.2"
      ],
      "metadata": {
        "id": "1SeaxMgCyfGJ"
      },
      "execution_count": null,
      "outputs": []
    },
    {
      "cell_type": "code",
      "execution_count": null,
      "metadata": {
        "id": "TD-V3kRPTdU1"
      },
      "outputs": [],
      "source": [
        "import pandas as pd\n",
        "import numpy as np\n",
        "import matplotlib.pyplot as plt\n",
        "import seaborn as sns\n",
        "%matplotlib inline\n",
        "import os,os.path\n",
        "import re\n",
        "import xgboost as xgb\n",
        "from xgboost import XGBClassifier\n",
        "from sklearn.ensemble import RandomForestClassifier\n",
        "from sklearn.metrics import accuracy_score\n",
        "from sklearn.preprocessing import LabelEncoder\n",
        "from sklearn.metrics import roc_auc_score, accuracy_score, precision_score, recall_score, f1_score, classification_report, confusion_matrix\n",
        "from sklearn.model_selection import train_test_split, RandomizedSearchCV\n",
        "import optuna\n",
        "from sklearn.feature_selection import RFECV\n",
        "from sklearn.model_selection import train_test_split, StratifiedKFold\n",
        "from sklearn.utils import resample\n",
        "from sklearn.datasets import make_classification\n",
        "from sklearn.linear_model import LogisticRegression\n",
        "from scipy.stats import bootstrap"
      ]
    },
    {
      "cell_type": "markdown",
      "source": [
        "###Load the datasets"
      ],
      "metadata": {
        "id": "Om5Tl0oGetyv"
      }
    },
    {
      "cell_type": "code",
      "source": [
        "gene = pd.read_excel('Top 15 GC micorbes.xlsx')\n",
        "gene"
      ],
      "metadata": {
        "id": "ZW_-uC4UhRhA"
      },
      "execution_count": null,
      "outputs": []
    },
    {
      "cell_type": "code",
      "source": [
        "gene_val = pd.read_csv('microbiome_validation_final.csv')\n",
        "gene_val"
      ],
      "metadata": {
        "id": "n_wWndg0LrvF"
      },
      "execution_count": null,
      "outputs": []
    },
    {
      "cell_type": "code",
      "source": [
        "# Drop the 'Sample' column for normalization\n",
        "data_to_normalize = gene_val.drop(columns='Group')\n",
        "\n",
        "# Perform Min-Max normalization\n",
        "normalized_data = (data_to_normalize - data_to_normalize.min()) / (data_to_normalize.max() - data_to_normalize.min())\n",
        "\n",
        "# Optionally, concatenate back the 'Sample' column\n",
        "normalized_gene = pd.concat([gene_val[['Group']], normalized_data], axis=1)\n",
        "\n",
        "# Display the first few rows of the normalized data\n",
        "print(normalized_gene.head())\n"
      ],
      "metadata": {
        "id": "Hwk47ktfL0OL"
      },
      "execution_count": null,
      "outputs": []
    },
    {
      "cell_type": "markdown",
      "source": [
        "#XGBOOST(GC)"
      ],
      "metadata": {
        "id": "g9H0vcjbTwU-"
      }
    },
    {
      "cell_type": "code",
      "source": [
        "X = gene.drop('Group', axis=1)\n",
        "y = gene['Group']\n",
        "\n",
        "# Encode categorical target labels into numerical labels\n",
        "label_encoder = LabelEncoder()\n",
        "y = label_encoder.fit_transform(y)\n",
        "\n",
        "\n",
        "# Split data into training and testing sets\n",
        "X_train, X_test, y_train, y_test = train_test_split(X, y, test_size=0.25, random_state=42)\n",
        "\n",
        "# Initialize XGBoost classifier with default parameters\n",
        "model = xgb.XGBClassifier()\n",
        "\n",
        "# Train the model\n",
        "model.fit(X_train, y_train)\n",
        "\n",
        "# Make predictions\n",
        "y_pred = model.predict(X_test)\n",
        "\n",
        "# Evaluate accuracy\n",
        "accuracy = accuracy_score(y_test, y_pred)\n",
        "precision = precision_score(y_test, y_pred, average='weighted')\n",
        "f1 = f1_score(y_test, y_pred, average='weighted')\n",
        "recall = recall_score(y_test, y_pred, average='weighted')\n",
        "print(f'Accuracy: {accuracy:.4f}')\n",
        "print(f\"Test Precision: {precision:.4f}\")\n",
        "print(f\"Test F1 Score: {f1:.4f}\")\n",
        "print(f\"Test Recall: {recall:.4f}\")"
      ],
      "metadata": {
        "id": "co7Md06AXcsM"
      },
      "execution_count": null,
      "outputs": []
    },
    {
      "cell_type": "markdown",
      "metadata": {
        "id": "eaw33R3SXqTB"
      },
      "source": [
        "##Random Search"
      ]
    },
    {
      "cell_type": "code",
      "source": [
        "X_train, X_test, y_train, y_test = train_test_split(X, y, test_size=0.25, random_state=42)\n",
        "\n",
        "# Define the parameter grid\n",
        "param_dist = {\n",
        "    'n_estimators': np.arange(50, 200, 10),\n",
        "    'max_depth': np.arange(3, 10),\n",
        "    'learning_rate': np.linspace(0.01, 0.3, 10),\n",
        "    'subsample': np.linspace(0.5, 1.0, 10),\n",
        "    'colsample_bytree': np.linspace(0.5, 1.0, 10),\n",
        "    'gamma': np.linspace(0, 0.5, 5),\n",
        "    'min_child_weight': np.arange(1, 6),\n",
        "    'reg_alpha': np.linspace(0, 1, 20),\n",
        "    'reg_lambda': np.linspace(0, 1, 20),\n",
        "}\n",
        "\n",
        "# Initialize the model\n",
        "xgb = XGBClassifier()\n",
        "\n",
        "# Randomized search\n",
        "random_search = RandomizedSearchCV(\n",
        "    xgb, param_distributions=param_dist, n_iter=100,\n",
        "    scoring='roc_auc', cv=5, verbose=1, random_state=42, n_jobs=-1\n",
        ")\n",
        "\n",
        "# Fit the model\n",
        "random_search.fit(X_train, y_train)\n",
        "\n",
        "# Get the best parameters\n",
        "best_params = random_search.best_params_\n",
        "print(\"Best Parameters:\", best_params)\n",
        "\n",
        "# Predict on the test set\n",
        "y_pred = random_search.predict(X_test)\n",
        "\n",
        "# Calculate metrics\n",
        "accuracy = accuracy_score(y_test, y_pred)\n",
        "precision = precision_score(y_test, y_pred)\n",
        "recall = recall_score(y_test, y_pred)\n",
        "f1 = f1_score(y_test, y_pred)\n",
        "\n",
        "print(f\"Accuracy: {accuracy:.2f}\")\n",
        "print(f\"Precision: {precision:.2f}\")\n",
        "print(f\"Recall: {recall:.2f}\")\n",
        "print(f\"F1 Score: {f1:.2f}\")"
      ],
      "metadata": {
        "id": "8-bYMAmCXibJ"
      },
      "execution_count": null,
      "outputs": []
    },
    {
      "cell_type": "markdown",
      "metadata": {
        "id": "NnPv44EAzDkV"
      },
      "source": [
        "##Bayesian Optimization"
      ]
    },
    {
      "cell_type": "code",
      "source": [
        "# Define the objective function for Optuna\n",
        "def objective(trial):\n",
        "    params = {\n",
        "        'booster': trial.suggest_categorical('booster', ['gbtree', 'dart']),\n",
        "        'objective': 'binary:logistic',\n",
        "        'learning_rate': trial.suggest_float('learning_rate', 0.01, 0.3),\n",
        "        'gamma': trial.suggest_float('gamma', 0, 0.5),\n",
        "        'max_depth': trial.suggest_int('max_depth', 3, 10),\n",
        "        'min_child_weight': trial.suggest_float('min_child_weight', 0.5, 5),\n",
        "        'subsample': trial.suggest_float('subsample', 0.5, 1.0),\n",
        "        'colsample_bytree': trial.suggest_float('colsample_bytree', 0.5, 1.0),\n",
        "        'n_estimators': trial.suggest_int('n_estimators', 50, 300)\n",
        "    }\n",
        "\n",
        "    model = xgb.XGBClassifier(**params)\n",
        "\n",
        "    # Use cross-validation to evaluate the model\n",
        "    cv_scores = cross_val_score(model, X_train, y_train, cv=5, scoring='roc_auc')\n",
        "    return cv_scores.mean()\n",
        "\n",
        "# Create a study and optimize the objective function\n",
        "study = optuna.create_study(direction='maximize')\n",
        "\n",
        "# Enqueue the parameters obtained from RandomizedSearchCV\n",
        "study.enqueue_trial({\n",
        "    'booster': 'gbtree',\n",
        "    'objective': 'binary:logistic',\n",
        "    'learning_rate':  0.1388888888888889,\n",
        "    'gamma': 0.125,\n",
        "    'max_depth': 6,\n",
        "    'min_child_weight': 1,\n",
        "    'subsample': 0.7222222222222222,\n",
        "    'colsample_bytree': 0.5,\n",
        "    'reg_alpha':   0.3684210526315789,\n",
        "    'reg_lambda': 0.8421052631578947,\n",
        "    'n_estimators': 170\n",
        "})\n",
        "\n",
        "# Optimize the study\n",
        "study.optimize(objective, n_trials=50)\n",
        "\n",
        "# Print the best parameters and the best score\n",
        "print(f\"Best Parameters: {study.best_params}\")\n",
        "\n",
        "\n",
        "# Train the final model with the best parameters\n",
        "best_params = study.best_params\n",
        "final_model = xgb.XGBClassifier(**best_params)\n",
        "final_model.fit(X_train, y_train)\n",
        "\n",
        "# Make predictions on the test set\n",
        "y_pred = final_model.predict(X_test)\n",
        "\n",
        "# Evaluate the final model\n",
        "accuracy = accuracy_score(y_test, y_pred)\n",
        "precision = precision_score(y_test, y_pred, average='weighted')\n",
        "f1 = f1_score(y_test, y_pred, average='weighted')\n",
        "recall = recall_score(y_test, y_pred, average='weighted')\n",
        "\n",
        "print(f\"Test Accuracy: {accuracy:.4f}\")\n",
        "print(f\"Test Precision: {precision:.4f}\")\n",
        "print(f\"Test F1 Score: {f1:.4f}\")\n",
        "print(f\"Test Recall: {recall:.4f}\")\n"
      ],
      "metadata": {
        "id": "c1ifneyW014l"
      },
      "execution_count": null,
      "outputs": []
    },
    {
      "cell_type": "code",
      "source": [
        "selected_features = X_train.columns.tolist()\n",
        "\n",
        "# Best parameters from Bayesian Optimization\n",
        "best_params_xg = {\n",
        "    'learning_rate': 0.1388888888888889,\n",
        "    'max_depth': 6,\n",
        "    'n_estimators': 170,\n",
        "    'gamma':  0.125,\n",
        "    'min_child_weight': 1.0,\n",
        "    'subsample': 0.7222222222222222,\n",
        "    'colsample_bytree': 0.5,\n",
        "    'objective': 'binary:logistic',\n",
        "    'booster': 'gbtree',\n",
        "    'reg_alpha' : 0.894736842105263,\n",
        "    'reg_lambda' : 0.5789473684210527\n",
        "}\n",
        "\n",
        "# Create the XGBoost classifier with the best parameters\n",
        "final_model_xg = xgb.XGBClassifier(**best_params_xg, random_state = 42)\n",
        "\n",
        "# Perform cross-validation\n",
        "cv_scores = cross_val_score(final_model_xg, X_train[selected_features], y_train, cv=5, scoring='roc_auc')\n",
        "print(\"Cross-validation scores:\")\n",
        "print(cv_scores)\n",
        "print(f\"Mean CV accuracy: {np.mean(cv_scores):.4f}\")\n",
        "\n",
        "# Train the model\n",
        "final_model_xg.fit(X_train[selected_features], y_train)\n",
        "\n",
        "# Make predictions on the test set\n",
        "y_pred_xg = final_model_xg.predict(X_test[selected_features])\n",
        "y_pred_prob_xg = final_model_xg.predict_proba(X_test[selected_features])[:, 1]\n",
        "\n",
        "# Calculate evaluation metrics\n",
        "accuracy = accuracy_score(y_test, y_pred_xg)\n",
        "precision = precision_score(y_test, y_pred_xg, average=\"weighted\", zero_division=1)\n",
        "recall = recall_score(y_test, y_pred_xg)\n",
        "f1 = f1_score(y_test, y_pred_xg)\n",
        "roc_auc = roc_auc_score(y_test, y_pred_prob_xg)\n",
        "\n",
        "# Calculate specificity\n",
        "tn, fp, fn, tp = confusion_matrix(y_test, y_pred_xg).ravel()\n",
        "specificity = tn / (tn + fp)\n",
        "\n",
        "# Print the results\n",
        "print(f'Test ROC AUC: {roc_auc:.2f}')\n",
        "print(f'Test Accuracy: {accuracy:.2f}')\n",
        "print(f'Test Precision: {precision:.2f}')\n",
        "print(f'Test Recall: {recall:.2f}')\n",
        "print(f'Test F1-Score: {f1:.2f}')\n",
        "print(f'Test Specificity: {specificity:.2f}')\n"
      ],
      "metadata": {
        "id": "YXK3auzjAPWk"
      },
      "execution_count": null,
      "outputs": []
    },
    {
      "cell_type": "markdown",
      "source": [
        "##XGBoost Validation"
      ],
      "metadata": {
        "id": "CuL5gs_1OqUh"
      }
    },
    {
      "cell_type": "code",
      "source": [
        "X_val_gene = normalized_gene.drop('Group', axis=1)\n",
        "y_val_gene = normalized_gene['Group']\n",
        "\n",
        "# Encode the target variable\n",
        "label_encoder = LabelEncoder()\n",
        "y_encoded_gene = label_encoder.fit_transform(y_val_gene)\n",
        "\n",
        "# Check for missing features and add them with zero values if necessary\n",
        "missing_features = [feature for feature in selected_features if feature not in X_val_gene.columns]\n",
        "missing_df = pd.DataFrame(0.0, index=X_val_gene.index, columns=missing_features)\n",
        "X_val_gene = pd.concat([X_val_gene, missing_df], axis=1)\n",
        "\n",
        "# Ensure the columns are in the same order as the training features\n",
        "X_val_gene = X_val_gene[selected_features]\n",
        "xg_model.fit(X_val_gene, y_encoded_gene)\n",
        "\n",
        "\n",
        "y_pred_prob_xg_gene = xg_model.predict_proba(X_val_gene)[:, 1]\n",
        "y_pred_xg_gene = xg_model.predict(X_val_gene)\n",
        "y_pred_prob = final_model_xg.predict_proba(X_val_gene)[:, 1]\n",
        "y_pred_ = final_model_xg.predict(X_val_gene)\n",
        "roc_auc_val_xg = roc_auc_score(y_encoded_gene, y_pred_prob)\n",
        "\n",
        "\n",
        "conf_matrix= confusion_matrix(y_encoded_gene, y_pred)\n",
        "if conf_matrix.shape == (2, 2):\n",
        "    tn_val_xg, fp_val_xg, fn_val_xg, tp_val_xg = conf_matrix.ravel()\n",
        "    specificity_val_xg = tn_val_xg / (tn_val_xg + fp_val_xg)\n",
        "else:\n",
        "    specificity_val_xg = 'N/A'\n",
        "\n",
        "\n",
        "accuracy_val_xg = accuracy_score(y_encoded_gene, y_pred_xg_gene)\n",
        "precision_val_xg = precision_score(y_encoded_gene, y_pred_xg_gene, average=\"weighted\", zero_division=1)\n",
        "recall_val_xg = recall_score(y_encoded_gene, y_pred_xg_gene, average=\"weighted\")\n",
        "f1_val_xg = f1_score(y_encoded_gene, y_pred_xg_gene, average=\"weighted\")\n",
        "\n",
        "# Print evaluation metrics\n",
        "print(f'Validation ROC AUC: {roc_auc_val_xg:.2f}')\n",
        "print(f'Validation Accuracy: {accuracy_val_xg:.2f}')\n",
        "print(f'Validation Precision: {precision_val_xg:.2f}')\n",
        "print(f'Validation Recall: {recall_val_xg:.2f}')\n",
        "print(f'Validation F1-Score: {f1_val_xg:.2f}')\n",
        "print(f'Validation Specificity: {specificity_val_xg:.2f}')\n"
      ],
      "metadata": {
        "id": "9ZfOst6vrwEC"
      },
      "execution_count": null,
      "outputs": []
    },
    {
      "cell_type": "markdown",
      "source": [
        "##95% CI"
      ],
      "metadata": {
        "id": "choNmTroRvnP"
      }
    },
    {
      "cell_type": "code",
      "source": [
        "# Function to calculate metrics on a bootstrap sample\n",
        "def calculate_metrics(X, y, model, xg_model):\n",
        "    y_pred_prob = model.predict_proba(X)[:, 1]\n",
        "    y_pred = model.predict(X)\n",
        "\n",
        "    # Calculate ROC AUC\n",
        "    roc_auc = roc_auc_score(y, y_pred_prob)\n",
        "\n",
        "    # Calculate confusion matrix for specificity\n",
        "    conf_matrix = confusion_matrix(y, y_pred)\n",
        "    if conf_matrix.shape == (2, 2):\n",
        "        tn, fp, fn, tp = conf_matrix.ravel()\n",
        "        specificity = tn / (tn + fp) if (tn + fp) > 0 else 0\n",
        "    else:\n",
        "        specificity = np.nan\n",
        "\n",
        "    # Get predictions for other metrics\n",
        "    y_pred = xg_model.predict(X)\n",
        "    accuracy = accuracy_score(y, y_pred)\n",
        "    precision = precision_score(y, y_pred, average=\"weighted\", zero_division=1)\n",
        "    recall = recall_score(y, y_pred, average=\"weighted\")\n",
        "    f1 = f1_score(y, y_pred, average=\"weighted\")\n",
        "\n",
        "    return roc_auc, accuracy, precision, recall, f1, specificity\n",
        "\n",
        "# Number of bootstrap samples\n",
        "n_bootstraps = 1000\n",
        "metrics = {\"roc_auc\": [], \"accuracy\": [], \"precision\": [], \"recall\": [], \"f1\": [], \"specificity\": []}\n",
        "\n",
        "# Perform bootstrapping\n",
        "for i in range(n_bootstraps):\n",
        "    # Resample with replacement\n",
        "    indices = np.random.choice(range(len(y_encoded_gene)), len(y_encoded_gene), replace=True)\n",
        "    X_resampled = X_val_gene.iloc[indices]\n",
        "    y_resampled = y_encoded_gene[indices]\n",
        "\n",
        "    # Calculate metrics on the bootstrap sample\n",
        "    roc_auc, accuracy, precision, recall, f1, specificity = calculate_metrics(X_resampled, y_resampled, final_model_xg, xg_model)\n",
        "\n",
        "    # Store results\n",
        "    metrics[\"roc_auc\"].append(roc_auc)\n",
        "    metrics[\"accuracy\"].append(accuracy)\n",
        "    metrics[\"precision\"].append(precision)\n",
        "    metrics[\"recall\"].append(recall)\n",
        "    metrics[\"f1\"].append(f1)\n",
        "    metrics[\"specificity\"].append(specificity)\n",
        "\n",
        "# Calculate 95% confidence intervals\n",
        "ci_results = {metric: (np.percentile(scores, 2.5), np.percentile(scores, 97.5)) for metric, scores in metrics.items()}\n",
        "\n",
        "# Print the results with 95% CI\n",
        "print(f'Validation ROC AUC: (95% CI: {ci_results[\"roc_auc\"][0]:.2f} - {ci_results[\"roc_auc\"][1]:.2f})')\n",
        "print(f'Validation Accuracy:  (95% CI: {ci_results[\"accuracy\"][0]:.2f} - {ci_results[\"accuracy\"][1]:.2f})')\n",
        "print(f'Validation Precision: (95% CI: {ci_results[\"precision\"][0]:.2f} - {ci_results[\"precision\"][1]:.2f})')\n",
        "print(f'Validation Recall:  (95% CI: {ci_results[\"recall\"][0]:.2f} - {ci_results[\"recall\"][1]:.2f})')\n",
        "print(f'Validation F1-Score: (95% CI: {ci_results[\"f1\"][0]:.2f} - {ci_results[\"f1\"][1]:.2f})')\n",
        "print(f'Validation Specificity: (95% CI: {ci_results[\"specificity\"][0]:.2f} - {ci_results[\"specificity\"][1]:.2f})')\n"
      ],
      "metadata": {
        "id": "gYUydHcssBNa"
      },
      "execution_count": null,
      "outputs": []
    },
    {
      "cell_type": "markdown",
      "source": [
        "##Random Forest"
      ],
      "metadata": {
        "id": "12cXLE4Pfhdp"
      }
    },
    {
      "cell_type": "code",
      "source": [
        "X = gene.drop('Group', axis=1)\n",
        "y = gene['Group']\n",
        "\n",
        "# Encode categorical target labels into numerical labels\n",
        "label_encoder = LabelEncoder()\n",
        "y = label_encoder.fit_transform(y)\n",
        "\n",
        "# Split the dataset into training and testing sets\n",
        "X_train, X_test, y_train, y_test = train_test_split(X, y, test_size=0.25, random_state=42)\n",
        "\n",
        "# Create the Random Forest classifier\n",
        "clf = RandomForestClassifier(n_estimators=100, random_state=42)\n",
        "\n",
        "# Train the classifier on the training data\n",
        "clf.fit(X_train, y_train)\n",
        "\n",
        "# Make predictions on the test set\n",
        "y_pred = clf.predict(X_test)\n",
        "\n",
        "# Calculate accuracy on the test set\n",
        "test_accuracy = accuracy_score(y_test, y_pred)\n",
        "print(f\"Test Accuracy: {test_accuracy:.4f}\")\n",
        "\n",
        "# Calculate F1 score on the test set\n",
        "test_f1 = f1_score(y_test, y_pred, average='weighted')\n",
        "print(f\"Test F1 Score: {test_f1:.4f}\")\n",
        "\n",
        "# Calculate precision on the test set\n",
        "test_precision = precision_score(y_test, y_pred, average='weighted')\n",
        "print(f\"Test Precision: {test_precision:.4f}\")\n",
        "\n",
        "# Calculate recall on the test set\n",
        "test_recall = recall_score(y_test, y_pred, average='weighted')\n",
        "print(f\"Test Recall: {test_recall:.4f}\")"
      ],
      "metadata": {
        "id": "eXq03U2zfjTn"
      },
      "execution_count": null,
      "outputs": []
    },
    {
      "cell_type": "markdown",
      "source": [
        "##Random Search"
      ],
      "metadata": {
        "id": "1G-mEAXSfwRD"
      }
    },
    {
      "cell_type": "code",
      "source": [
        "X_train, X_test, y_train, y_test = train_test_split(X, y, test_size=0.25, random_state=42)\n",
        "\n",
        "# Define the parameter grid for RandomizedSearchCV\n",
        "param_dist = {\n",
        "    'n_estimators': [int(x) for x in np.linspace(start=100, stop=1000, num=10)],\n",
        "    'max_features': ['sqrt', 'log2'],\n",
        "    'max_depth': [int(x) for x in np.linspace(10, 110, num=11)] + [None],\n",
        "    'min_samples_split': [2, 5, 10],\n",
        "    'min_samples_leaf': [1, 2, 4],\n",
        "    'bootstrap': [True, False]\n",
        "}\n",
        "\n",
        "# Initialize the Random Forest model\n",
        "rf = RandomForestClassifier(random_state=42)\n",
        "\n",
        "# Initialize RandomizedSearchCV\n",
        "rf_random = RandomizedSearchCV(estimator=rf, param_distributions=param_dist,\n",
        "                               n_iter=100, cv=5, verbose=2, random_state=42, n_jobs=-1)\n",
        "\n",
        "# Fit RandomizedSearchCV to the data\n",
        "rf_random.fit(X_train, y_train)\n",
        "\n",
        "# Print the best parameters found by RandomizedSearchCV\n",
        "print(\"Best parameters found by RandomizedSearchCV:\")\n",
        "print(rf_random.best_params_)\n",
        "\n",
        "# Predict on the test data\n",
        "y_pred = rf_random.best_estimator_.predict(X_test)\n",
        "\n",
        "# Evaluate the model\n",
        "accuracy = accuracy_score(y_test, y_pred)\n",
        "precision = precision_score(y_test, y_pred, average='weighted')\n",
        "recall = recall_score(y_test, y_pred, average='weighted')\n",
        "f1 = f1_score(y_test, y_pred, average='weighted')\n",
        "\n",
        "# Print evaluation metrics\n",
        "print(f\"Accuracy: {accuracy}\")\n",
        "print(f\"Precision: {precision}\")\n",
        "print(f\"Recall: {recall}\")\n",
        "print(f\"F1 Score: {f1}\")\n"
      ],
      "metadata": {
        "id": "ghDO8nqDzV5i"
      },
      "execution_count": null,
      "outputs": []
    },
    {
      "cell_type": "markdown",
      "source": [
        "##Bayesian Optimization"
      ],
      "metadata": {
        "id": "72KsxTIiVttE"
      }
    },
    {
      "cell_type": "code",
      "source": [
        "# Define the best parameters found from RandomizedSearchCV RF\n",
        "best_params_random = {\n",
        "    'n_estimators': 100,\n",
        "    'min_samples_split': 5,\n",
        "    'min_samples_leaf': 2,\n",
        "    'max_features': 'sqrt',\n",
        "    'max_depth': 90,\n",
        "    'bootstrap': False\n",
        "}\n",
        "\n",
        "def objective(trial):\n",
        "    # Define the search space based on the best parameters from RandomizedSearchCV\n",
        "    n_estimators = trial.suggest_int('n_estimators', max(100, best_params_random['n_estimators'] - 200), best_params_random['n_estimators'] + 200)\n",
        "    min_samples_split = trial.suggest_int('min_samples_split', max(2, best_params_random['min_samples_split'] - 3), best_params_random['min_samples_split'] + 3)\n",
        "    min_samples_leaf = trial.suggest_int('min_samples_leaf', max(1, best_params_random['min_samples_leaf'] - 2), best_params_random['min_samples_leaf'] + 2)\n",
        "    max_features = trial.suggest_categorical('max_features', ['sqrt', 'log2'])\n",
        "    max_depth = trial.suggest_int('max_depth', max(5, best_params_random['max_depth'] - 10), best_params_random['max_depth'] + 10)\n",
        "    bootstrap = trial.suggest_categorical('bootstrap', [True, False])\n",
        "\n",
        "    # Initialize RandomForestClassifier with suggested hyperparameters\n",
        "    clf = RandomForestClassifier(\n",
        "        n_estimators=n_estimators,\n",
        "        min_samples_split=min_samples_split,\n",
        "        min_samples_leaf=min_samples_leaf,\n",
        "        max_features=max_features,\n",
        "        max_depth=max_depth,\n",
        "        bootstrap=bootstrap,\n",
        "        random_state=42\n",
        "    )\n",
        "\n",
        "    # Use cross-validation to evaluate the classifier\n",
        "    cv_scores = cross_val_score(clf, X, y, cv=5, scoring='roc_auc')\n",
        "    return np.mean(cv_scores)\n",
        "\n",
        "# Perform optimization with Optuna\n",
        "study = optuna.create_study(direction='maximize')\n",
        "\n",
        "# Enqueue the trial with the best parameters from RandomizedSearchCV\n",
        "study.enqueue_trial(best_params_random)\n",
        "study.optimize(objective, n_trials=50)\n",
        "\n",
        "# Print the best parameters and best score from Optuna\n",
        "print(\"Best Parameters from Optuna:\", study.best_params)\n",
        "print(\"Best Accuracy from Optuna:\", study.best_value)\n",
        "\n",
        "# Retrieve the best model and evaluate on the test set\n",
        "best_params_optuna = study.best_params\n",
        "best_clf = RandomForestClassifier(**best_params_optuna, random_state=50)\n",
        "best_clf.fit(X_train, y_train)\n",
        "y_pred = best_clf.predict(X_test)\n",
        "\n",
        "# Evaluate on test set\n",
        "accuracy = accuracy_score(y_test, y_pred)\n",
        "precision = precision_score(y_test, y_pred, average='weighted')\n",
        "recall = recall_score(y_test, y_pred)\n",
        "f1 = f1_score(y_test, y_pred)\n",
        "\n",
        "print(f\"Test Accuracy: {accuracy:.4f}\")\n",
        "print(f\"Test Precision: {precision:.4f}\")\n",
        "print(f\"Test Recall: {recall:.4f}\")\n",
        "print(f\"Test F1 Score: {f1:.4f}\")\n"
      ],
      "metadata": {
        "id": "567q9RAlzeIv"
      },
      "execution_count": null,
      "outputs": []
    },
    {
      "cell_type": "code",
      "source": [
        "selected_features_rf = X_train.columns.tolist()\n",
        "\n",
        "# Best parameters from Bayesian Optimization RF\n",
        "best_params_rf = {\n",
        "    'n_estimators': 286,\n",
        "    'min_samples_split': 8,\n",
        "    'min_samples_leaf': 2,\n",
        "    'max_features': 'sqrt',\n",
        "    'max_depth': 95,\n",
        "    'bootstrap': True\n",
        "}\n",
        "\n",
        "\n",
        "# Create the Random Forest classifier with the best parameters\n",
        "final_model_rf = RandomForestClassifier(**best_params_rf, random_state=42)\n",
        "\n",
        "\n",
        "# Perform cross-validation with 5 folds\n",
        "cv_scores = cross_val_score(final_model_rf, X_train[selected_features_rf], y_train, cv=5, scoring='roc_auc')\n",
        "print(\"Cross-validation scores:\")\n",
        "print(cv_scores)\n",
        "print(f\"Mean CV accuracy: {np.mean(cv_scores):.4f}\")\n",
        "\n",
        "# Train the final model on the entire training data\n",
        "final_model_rf.fit(X_train[selected_features_rf], y_train)\n",
        "\n",
        "# Make predictions on the test set\n",
        "y_pred_rf = final_model_rf.predict(X_test[selected_features_rf])\n",
        "y_pred_prob_rf = final_model_rf.predict_proba(X_test[selected_features_rf])[:, 1]\n",
        "\n",
        "# Calculate evaluation metrics on the test set\n",
        "accuracy = accuracy_score(y_test, y_pred_rf)\n",
        "precision = precision_score(y_test, y_pred_rf, average='weighted')\n",
        "recall = recall_score(y_test, y_pred_rf, average='weighted')\n",
        "f1 = f1_score(y_test, y_pred_rf, average='weighted')\n",
        "auc_roc = roc_auc_score(y_test, y_pred_prob_rf)\n",
        "\n",
        "tn, fp, fn, tp = confusion_matrix(y_test, y_pred_rf).ravel()\n",
        "specificity = tn / (tn + fp)\n",
        "\n",
        "# Print the results for test data\n",
        "print(f'Test Accuracy: {accuracy:.2f}')\n",
        "print(f'Test Precision: {precision:.2f}')\n",
        "print(f'Test Recall: {recall:.2f}')\n",
        "print(f'Test F1-Score: {f1:.2f}')\n",
        "print(f'Test AUC-ROC: {auc_roc:.2f}')\n",
        "print(f'Test Specificity: {specificity:.2f}')\n"
      ],
      "metadata": {
        "id": "nK0PTIXQ2I9J"
      },
      "execution_count": null,
      "outputs": []
    },
    {
      "cell_type": "markdown",
      "source": [
        "##Random Forest Validation"
      ],
      "metadata": {
        "id": "HV7bXcGLYOxI"
      }
    },
    {
      "cell_type": "code",
      "source": [
        "# Validation set\n",
        "X_val_gene_rf = gene_val.drop('Group', axis=1)\n",
        "y_val_gene_rf = gene_val['Group']\n",
        "\n",
        "# Encode categorical target labels into numerical labels\n",
        "label_encoder = LabelEncoder()\n",
        "y_encoded = label_encoder.fit_transform(y_val_gene_rf)\n",
        "\n",
        "# Identify the features that are missing in the validation set\n",
        "missing_features = [feature for feature in selected_features_rf if feature not in X_val_gene_rf.columns]\n",
        "\n",
        "# Add the missing features to the validation set with zero values using pd.concat\n",
        "missing_df_rf = pd.DataFrame(0, index=X_val_gene_rf.index, columns=missing_features)\n",
        "X_val_gene_rf = pd.concat([X_val_gene_rf, missing_df_rf], axis=1)\n",
        "\n",
        "# Ensure the columns are in the same order as the training features\n",
        "X_val_gene_rf = X_val_gene_rf[selected_features_rf]\n",
        "# Make predictions on the validation set without converting to NumPy array\n",
        "y_pred_prob_rf_gene = final_model_rf.predict_proba(X_val_gene_rf)[:, 1]\n",
        "y_pred_rf_gene = final_model_rf.predict(X_val_gene_rf)\n",
        "\n",
        "# Calculate evaluation metrics\n",
        "accuracy_val = accuracy_score(y_encoded, y_pred_rf_gene)\n",
        "precision_val = precision_score(y_encoded, y_pred_rf_gene, average='weighted', zero_division=1)\n",
        "recall_val = recall_score(y_encoded, y_pred_rf_gene, average='weighted')\n",
        "f1_val = f1_score(y_encoded, y_pred_rf_gene, average='weighted')\n",
        "roc_auc_val = roc_auc_score(y_encoded, y_pred_prob_rf_gene)\n",
        "\n",
        "# Calculate specificity\n",
        "tn_val, fp_val, fn_val, tp_val = confusion_matrix(y_encoded, y_pred_rf_gene).ravel()\n",
        "specificity_val = tn_val / (tn_val + fp_val)\n",
        "\n",
        "# Print evaluation metrics\n",
        "print(f'Validation ROC AUC: {roc_auc_val:.2f}')\n",
        "print(f'Validation Accuracy: {accuracy_val:.2f}')\n",
        "print(f'Validation Precision: {precision_val:.2f}')\n",
        "print(f'Validation Recall: {recall_val:.2f}')\n",
        "print(f'Validation F1-Score: {f1_val:.2f}')\n",
        "print(f'Validation Specificity: {specificity_val:.2f}')\n",
        "print(f'Validation Specificity: {specificity_val:.2f}')"
      ],
      "metadata": {
        "id": "oz_kZy_1WrRx"
      },
      "execution_count": null,
      "outputs": []
    },
    {
      "cell_type": "markdown",
      "source": [
        "##95% CI"
      ],
      "metadata": {
        "id": "kCgESUbAU4ok"
      }
    },
    {
      "cell_type": "code",
      "source": [
        "# Function to compute metrics\n",
        "def compute_metrics(y_true, y_pred, y_pred_proba):\n",
        "    accuracy = accuracy_score(y_true, y_pred)\n",
        "    precision = precision_score(y_true, y_pred, average='weighted', zero_division=1)\n",
        "    recall = recall_score(y_true, y_pred, average='weighted')\n",
        "    f1 = f1_score(y_true, y_pred, average='weighted')\n",
        "    roc_auc = roc_auc_score(y_true, y_pred_proba)\n",
        "\n",
        "    # Confusion matrix to compute specificity\n",
        "    tn, fp, fn, tp = confusion_matrix(y_true, y_pred).ravel()\n",
        "    specificity = tn / (tn + fp)\n",
        "\n",
        "    return accuracy, precision, recall, f1, roc_auc, specificity\n",
        "\n",
        "# Number of bootstrap iterations\n",
        "n_iterations = 1000\n",
        "n_size = len(X_val_mtb_rf)\n",
        "\n",
        "# Initialize lists to store metric values for each bootstrap sample\n",
        "accuracy_scores = []\n",
        "precision_scores = []\n",
        "recall_scores = []\n",
        "f1_scores = []\n",
        "roc_auc_scores = []\n",
        "specificity_scores = []\n",
        "\n",
        "# Bootstrap procedure\n",
        "for i in range(n_iterations):\n",
        "    # Resample the validation set with replacement\n",
        "    X_resample, y_resample = resample(X_val_mtb_rf, y_encoded_rf, n_samples=n_size, random_state=i)\n",
        "\n",
        "    # Make predictions on the resampled data\n",
        "    y_pred_resample = final_model_rf.predict(X_resample)\n",
        "    y_pred_proba_resample = final_model_rf.predict_proba(X_resample)[:, 1]\n",
        "\n",
        "    # Calculate metrics for this bootstrap sample\n",
        "    accuracy, precision, recall, f1, roc_auc, specificity = compute_metrics(y_resample, y_pred_resample, y_pred_proba_resample)\n",
        "\n",
        "    # Store the metrics\n",
        "    accuracy_scores.append(accuracy)\n",
        "    precision_scores.append(precision)\n",
        "    recall_scores.append(recall)\n",
        "    f1_scores.append(f1)\n",
        "    roc_auc_scores.append(roc_auc)\n",
        "    specificity_scores.append(specificity)\n",
        "\n",
        "# Calculate 95% confidence intervals for each metric\n",
        "def calculate_confidence_interval(scores):\n",
        "    lower_bound = np.percentile(scores, 2.5)\n",
        "    upper_bound = np.percentile(scores, 97.5)\n",
        "    return lower_bound, upper_bound\n",
        "\n",
        "# Calculate and print 95% confidence intervals\n",
        "accuracy_ci = calculate_confidence_interval(accuracy_scores)\n",
        "precision_ci = calculate_confidence_interval(precision_scores)\n",
        "recall_ci = calculate_confidence_interval(recall_scores)\n",
        "f1_ci = calculate_confidence_interval(f1_scores)\n",
        "roc_auc_ci = calculate_confidence_interval(roc_auc_scores)\n",
        "specificity_ci = calculate_confidence_interval(specificity_scores)\n",
        "\n",
        "print(f'Validation ROC AUC: {roc_auc_val:.2f}, 95% CI: [{roc_auc_ci[0]:.2f}, {roc_auc_ci[1]:.2f}]')\n",
        "print(f'Validation Accuracy: {accuracy_val:.2f}, 95% CI: [{accuracy_ci[0]:.2f}, {accuracy_ci[1]:.2f}]')\n",
        "print(f'Validation Precision: {precision_val:.2f}, 95% CI: [{precision_ci[0]:.2f}, {precision_ci[1]:.2f}]')\n",
        "print(f'Validation Recall: {recall_val:.2f}, 95% CI: [{recall_ci[0]:.2f}, {recall_ci[1]:.2f}]')\n",
        "print(f'Validation F1-Score: {f1_val:.2f}, 95% CI: [{f1_ci[0]:.2f}, {f1_ci[1]:.2f}]')\n",
        "print(f'Validation Specificity: {specificity_val:.2f}, 95% CI: [{specificity_ci[0]:.2f}, {specificity_ci[1]:.2f}]')\n"
      ],
      "metadata": {
        "id": "DEVuh8LnxUS8",
        "collapsed": true
      },
      "execution_count": null,
      "outputs": []
    },
    {
      "cell_type": "markdown",
      "source": [
        "#LASSO"
      ],
      "metadata": {
        "id": "5UkZTcNgC3Rx"
      }
    },
    {
      "cell_type": "code",
      "source": [
        "X = gene.drop('Group', axis=1)\n",
        "y = gene['Group']\n",
        "\n",
        "# Encode categorical target labels into numerical labels\n",
        "label_encoder = LabelEncoder()\n",
        "y = label_encoder.fit_transform(y)\n",
        "\n",
        "# Split data into training and testing sets\n",
        "X_train, X_test, y_train, y_test = train_test_split(X, y, test_size=0.25, random_state=42)\n",
        "\n",
        "# Create Logistic Regression classifier with L1 regularization (Lasso)\n",
        "log_reg = LogisticRegression(penalty='l1', solver='liblinear', random_state=42)\n",
        "\n",
        "# Train the classifier\n",
        "log_reg.fit(X_train, y_train)\n",
        "\n",
        "# Predict on the test set\n",
        "y_pred = log_reg.predict(X_test)\n",
        "\n",
        "# Calculate evaluation metrics\n",
        "accuracy = accuracy_score(y_test, y_pred)\n",
        "precision = precision_score(y_test, y_pred)\n",
        "recall = recall_score(y_test, y_pred)\n",
        "f1 = f1_score(y_test, y_pred)\n",
        "\n",
        "# Print the evaluation metrics\n",
        "print(f'Accuracy: {accuracy:.4f}')\n",
        "print(f'Precision: {precision:.4f}')\n",
        "print(f'Recall: {recall:.4f}')\n",
        "print(f'F1 Score: {f1:.4f}')\n"
      ],
      "metadata": {
        "id": "0H9B4TOWC5Fp"
      },
      "execution_count": null,
      "outputs": []
    },
    {
      "cell_type": "markdown",
      "source": [
        "##Random Search"
      ],
      "metadata": {
        "id": "47YR1G2tV43d"
      }
    },
    {
      "cell_type": "code",
      "source": [
        "X_train, X_test, y_train, y_test = train_test_split(X, y, test_size=0.25, random_state=42)\n",
        "\n",
        "# Define the parameter grid for Randomized Search\n",
        "param_dist = {\n",
        "    'C': np.logspace(-4, 4, 20),\n",
        "    'solver': ['liblinear'],\n",
        "    'max_iter': [1000, 1500, 2000],\n",
        "    'tol': [1e-4, 1e-3, 1e-2, 1e-1]\n",
        "}\n",
        "\n",
        "# Create Logistic Regression classifier with L1 regularization (Lasso)\n",
        "log_reg = LogisticRegression(penalty='l1', random_state=42)\n",
        "\n",
        "# Set up the Randomized Search with cross-validation\n",
        "random_search = RandomizedSearchCV(\n",
        "    log_reg, param_distributions=param_dist, n_iter=100,\n",
        "    scoring='roc_auc', cv=5, verbose=1, random_state=42, n_jobs=-1\n",
        ")\n",
        "\n",
        "# Fit the Randomized Search model\n",
        "random_search.fit(X_train, y_train)\n",
        "\n",
        "# Get the best parameters\n",
        "best_params = random_search.best_params_\n",
        "print(\"Best Parameters:\", best_params)\n",
        "\n",
        "# Predict on the test set with the best model\n",
        "y_pred = random_search.predict(X_test)\n",
        "\n",
        "# Calculate evaluation metrics\n",
        "accuracy = accuracy_score(y_test, y_pred)\n",
        "precision = precision_score(y_test, y_pred)\n",
        "recall = recall_score(y_test, y_pred)\n",
        "f1 = f1_score(y_test, y_pred)\n",
        "\n",
        "# Print the evaluation metrics\n",
        "print(f'Accuracy: {accuracy:.4f}')\n",
        "print(f'Precision: {precision:.4f}')\n",
        "print(f'Recall: {recall:.4f}')\n",
        "print(f'F1 Score: {f1:.4f}')\n",
        "\n"
      ],
      "metadata": {
        "id": "mbsnX0zjDD6f"
      },
      "execution_count": null,
      "outputs": []
    },
    {
      "cell_type": "markdown",
      "source": [
        "##Bayesian Optimization"
      ],
      "metadata": {
        "id": "SPFcMFGsV7H8"
      }
    },
    {
      "cell_type": "code",
      "source": [
        "X_train, X_test, y_train, y_test = train_test_split(X, y, test_size=0.25, random_state=42)\n",
        "\n",
        "# Define the best parameters found from previous searches lasso\n",
        "best_params_random = {\n",
        "    'C': 10000.0,\n",
        "    'max_iter': 1000,\n",
        "    'tol': 0.01,\n",
        "    'solver': 'liblinear'\n",
        "}\n",
        "\n",
        "def objective(trial):\n",
        "    C = trial.suggest_float('C', 1e-4, 1e2, log=True)\n",
        "    max_iter = trial.suggest_int('max_iter', 2000, 5000)\n",
        "    tol = trial.suggest_float('tol', 1e-4, 1e-2, log=True)\n",
        "    solver = trial.suggest_categorical('solver', ['liblinear', 'saga'])\n",
        "\n",
        "    # Initialize LogisticRegression with suggested hyperparameters\n",
        "    clf = LogisticRegression(\n",
        "        penalty='l1',\n",
        "        C=C,\n",
        "        max_iter=max_iter,\n",
        "        tol=tol,\n",
        "        solver=solver,\n",
        "        random_state=42\n",
        "    )\n",
        "\n",
        "    # Use cross-validation to evaluate the classifier\n",
        "    score = cross_val_score(clf, X_train, y_train, cv=5, scoring='roc_auc').mean()\n",
        "    return score\n",
        "\n",
        "# Perform optimization with Optuna\n",
        "study = optuna.create_study(direction='maximize')\n",
        "study.optimize(objective, n_trials=200)\n",
        "\n",
        "# Print the best parameters and best score from Optuna\n",
        "print(\"Best Parameters from Optuna:\", study.best_params)\n",
        "print(\"Best Accuracy from Optuna:\", study.best_value)\n",
        "\n",
        "# Retrieve the best model and evaluate on the test set\n",
        "best_params_optuna = study.best_params\n",
        "best_clf = LogisticRegression(penalty='l1', **best_params_optuna, random_state=42)\n",
        "best_clf.fit(X_train, y_train)\n",
        "y_pred = best_clf.predict(X_test)\n",
        "\n",
        "# Evaluate on test set\n",
        "accuracy = accuracy_score(y_test, y_pred)\n",
        "precision = precision_score(y_test, y_pred, average='weighted')\n",
        "recall = recall_score(y_test, y_pred, average='weighted')\n",
        "f1 = f1_score(y_test, y_pred, average='weighted')\n",
        "\n",
        "print(f\"Test Accuracy: {accuracy:.4f}\")\n",
        "print(f\"Test Precision: {precision:.4f}\")\n",
        "print(f\"Test Recall: {recall:.4f}\")\n",
        "print(f\"Test F1 Score: {f1:.4f}\")\n",
        "\n"
      ],
      "metadata": {
        "id": "wfCc9NO8Crb9"
      },
      "execution_count": null,
      "outputs": []
    },
    {
      "cell_type": "code",
      "source": [
        "selected_features_lasso = X_train.columns.tolist()\n",
        "\n",
        "# Best parameters from Bayesian Optimization with Optuna\n",
        "best_params_lasso = {\n",
        "    'C': 94.3983122760219,\n",
        "    'max_iter': 3560,\n",
        "    'solver': 'liblinear',\n",
        "    'tol':  0.0011598126302544468\n",
        "}\n",
        "# Train the Logistic Regression model again using only the selected features\n",
        "final_model_lasso = LogisticRegression(penalty='l1', **best_params_lasso, random_state=42)\n",
        "\n",
        "\n",
        "# Perform cross-validation with 5 folds\n",
        "cv_scores = cross_val_score(final_model_lasso, X_train[selected_features_lasso], y_train, cv=10, scoring='roc_auc')\n",
        "print(\"Cross-validation scores:\")\n",
        "print(cv_scores)\n",
        "print(f\"Mean CV accuracy: {np.mean(cv_scores):.4f}\")\n",
        "\n",
        "final_model_lasso.fit(X_train[selected_features_lasso], y_train)\n",
        "\n",
        "# Make predictions on the test set (predicted probabilities)\n",
        "y_pred_proba_lasso = final_model_lasso.predict_proba(X_test[selected_features_lasso])[:, 1]\n",
        "\n",
        "# Convert probabilities to predicted class labels\n",
        "y_pred_lasso = final_model_lasso.predict(X_test[selected_features_lasso])\n",
        "\n",
        "\n",
        "# Calculate evaluation metrics\n",
        "accuracy = accuracy_score(y_test, y_pred_lasso)\n",
        "precision = precision_score(y_test, y_pred_lasso)\n",
        "recall = recall_score(y_test, y_pred_lasso)\n",
        "f1 = f1_score(y_test, y_pred_lasso)\n",
        "roc_auc = roc_auc_score(y_test, y_pred_proba_lasso)\n",
        "\n",
        "# Calculate confusion matrix and extract TN, FP, FN, TP\n",
        "tn, fp, fn, tp = confusion_matrix(y_test, y_pred_lasso).ravel()\n",
        "\n",
        "# Calculate specificity\n",
        "specificity = tn / (tn + fp)\n",
        "print(f'Test ROC AUC: {roc_auc:.2f}')\n",
        "print(f'Test Accuracy: {accuracy:.2f}')\n",
        "print(f'Test Precision: {precision:.2f}')\n",
        "print(f'Test Recall: {recall:.2f}')\n",
        "print(f'Test F1-Score: {f1:.2f}')\n",
        "print(f'Test Specificity: {specificity:.2f}')\n",
        "\n"
      ],
      "metadata": {
        "id": "3S-V2hakEfVu"
      },
      "execution_count": null,
      "outputs": []
    },
    {
      "cell_type": "markdown",
      "source": [
        "##LASSO Validation"
      ],
      "metadata": {
        "id": "D42LBLnrgbSh"
      }
    },
    {
      "cell_type": "code",
      "source": [
        "# Validation set\n",
        "X_val_gene_lasso = gene_val.drop('Group', axis=1)\n",
        "y_val_gene_lasso = gene_val['Group']\n",
        "\n",
        "\n",
        "# Encode categorical target labels into numerical labels\n",
        "label_encoder = LabelEncoder()\n",
        "y_encoded = label_encoder.fit_transform(y_val_gene_lasso)\n",
        "\n",
        "# Identify the features that are missing in the validation set\n",
        "missing_features = [feature for feature in selected_features_lasso if feature not in X_val_gene_lasso.columns]\n",
        "\n",
        "# Add the missing features to the validation set with zero values using pd.concat\n",
        "missing_df_lasso = pd.DataFrame(0, index=X_val_gene_lasso.index, columns=missing_features)\n",
        "X_val_gene_lasso = pd.concat([X_val_gene_lasso, missing_df_lasso], axis=1)\n",
        "\n",
        "# Ensure the columns are in the same order as the training features\n",
        "X_val_gene_lasso = X_val_gene_lasso[selected_features_lasso]\n",
        "\n",
        "\n",
        "#Make predictions on the validation set\n",
        "y_pred_prob_lasso_gene = final_model_lasso.predict_proba(X_val_gene_lasso)[:, 1]\n",
        "y_pred_lasso_gene = final_model_lasso.predict(X_val_gene_lasso)\n",
        "\n",
        "\n",
        "# Calculate evaluation metrics\n",
        "accuracy_val = accuracy_score(y_encoded, y_pred_lasso_gene)\n",
        "precision_val = precision_score(y_encoded, y_pred_lasso_gene, average = 'weighted', zero_division=1)\n",
        "recall_val = recall_score(y_encoded, y_pred_lasso_gene, average=\"weighted\")\n",
        "f1_val = f1_score(y_encoded, y_pred_lasso_gene,  average=\"weighted\")\n",
        "roc_auc_val = roc_auc_score(y_encoded, y_pred_prob_lasso_gene)\n",
        "\n",
        "# Calculate specificity\n",
        "tn_val, fp_val, fn_val, tp_val = confusion_matrix(y_encoded, y_pred_lasso_gene).ravel()\n",
        "specificity_val = tn_val / (tn_val + fp_val)\n",
        "\n",
        "# Print evaluation metrics\n",
        "print(f'Validation ROC AUC: {roc_auc_val:.2f}')\n",
        "print(f'Validation Accuracy: {accuracy_val:.2f}')\n",
        "print(f'Validation Precision: {precision_val:.2f}')\n",
        "print(f'Validation Recall: {recall_val:.2f}')\n",
        "print(f'Validation F1-Score: {f1_val:.2f}')\n",
        "print(f'Validation Specificity: {specificity_val:.2f}')"
      ],
      "metadata": {
        "id": "FCVziHn0_7lv"
      },
      "execution_count": null,
      "outputs": []
    },
    {
      "cell_type": "markdown",
      "source": [
        "##95% CI"
      ],
      "metadata": {
        "id": "CX0mQ-MGWBj4"
      }
    },
    {
      "cell_type": "code",
      "source": [
        "n_iterations = 1000\n",
        "metrics = {\n",
        "    'roc_auc': [],\n",
        "    'accuracy': [],\n",
        "    'precision': [],\n",
        "    'recall': [],\n",
        "    'f1': [],\n",
        "    'specificity': []\n",
        "}\n",
        "\n",
        "# Bootstrapping\n",
        "for i in range(n_iterations):\n",
        "    # Resample with replacement\n",
        "    X_resampled, y_resampled = resample(X_val_mtb_lasso, y_encoded, stratify=y_encoded)\n",
        "\n",
        "    # Make predictions\n",
        "    y_pred_prob_resampled = final_model_lasso.predict_proba(X_resampled)[:, 1]\n",
        "    y_pred_resampled = final_model_lasso.predict(X_resampled)\n",
        "\n",
        "    # Compute metrics for the resampled data\n",
        "    metrics['roc_auc'].append(roc_auc_score(y_resampled, y_pred_prob_resampled))\n",
        "    metrics['accuracy'].append(accuracy_score(y_resampled, y_pred_resampled))\n",
        "    metrics['precision'].append(precision_score(y_resampled, y_pred_resampled, average='weighted', zero_division=1))\n",
        "    metrics['recall'].append(recall_score(y_resampled, y_pred_resampled, average='weighted'))\n",
        "    metrics['f1'].append(f1_score(y_resampled, y_pred_resampled, average='weighted'))\n",
        "\n",
        "    # Calculate specificity\n",
        "    tn, fp, fn, tp = confusion_matrix(y_resampled, y_pred_resampled).ravel()\n",
        "    specificity = tn / (tn + fp) if (tn + fp) > 0 else 0\n",
        "    metrics['specificity'].append(specificity)\n",
        "\n",
        "# Calculate 95% CIs for each metric\n",
        "confidence_intervals = {metric: (np.percentile(values, 2.5), np.percentile(values, 97.5))\n",
        "                        for metric, values in metrics.items()}\n",
        "\n",
        "# Print metrics and their confidence intervals\n",
        "print(f'Validation ROC AUC: {roc_auc_val:.2f}, 95% CI: {confidence_intervals[\"roc_auc\"]}')\n",
        "print(f'Validation Accuracy: {accuracy_val:.2f}, 95% CI: {confidence_intervals[\"accuracy\"]}')\n",
        "print(f'Validation Precision: {precision_val:.2f}, 95% CI: {confidence_intervals[\"precision\"]}')\n",
        "print(f'Validation Recall: {recall_val:.2f}, 95% CI: {confidence_intervals[\"recall\"]}')\n",
        "print(f'Validation F1-Score: {f1_val:.2f}, 95% CI: {confidence_intervals[\"f1\"]}')\n",
        "print(f'Validation Specificity: {specificity_val:.2f}, 95% CI: {confidence_intervals[\"specificity\"]}')\n",
        "\n"
      ],
      "metadata": {
        "id": "8F65Do3YvOZy"
      },
      "execution_count": null,
      "outputs": []
    }
  ]
}